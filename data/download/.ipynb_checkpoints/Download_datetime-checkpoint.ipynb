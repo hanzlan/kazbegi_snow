{
 "cells": [
  {
   "cell_type": "markdown",
   "metadata": {},
   "source": [
    "# Download GEE Imagery"
   ]
  },
  {
   "cell_type": "markdown",
   "metadata": {},
   "source": [
    "## Step-by-step tutorial\n",
    "\n",
    "### Import libraries"
   ]
  },
  {
   "cell_type": "code",
   "execution_count": 42,
   "metadata": {},
   "outputs": [],
   "source": [
    "import ee\n",
    "import math\n",
    "import geemap\n",
    "import sys\n",
    "import pandas as pd\n",
    "from multiprocessing import Process, cpu_count \n",
    "from geetools import cloud_mask"
   ]
  },
  {
   "cell_type": "code",
   "execution_count": 43,
   "metadata": {},
   "outputs": [
    {
     "data": {
      "application/vnd.jupyter.widget-view+json": {
       "model_id": "5a1dc89a27f147d99d5658a54f86272f",
       "version_major": 2,
       "version_minor": 0
      },
      "text/plain": [
       "Map(center=[42.6252601637589, 44.544784542321295], controls=(WidgetControl(options=['position'], widget=HBox(c…"
      ]
     },
     "metadata": {},
     "output_type": "display_data"
    }
   ],
   "source": [
    "Map = geemap.Map()\n",
    "kazbegi = ee.FeatureCollection(\"users/andihanzl/kazbegi\")\n",
    "points = ee.FeatureCollection(\"users/andihanzl/points\")\n",
    "Map.centerObject(kazbegi, 10)\n",
    "Map"
   ]
  },
  {
   "cell_type": "code",
   "execution_count": 44,
   "metadata": {},
   "outputs": [
    {
     "name": "stdout",
     "output_type": "stream",
     "text": [
      "{'type': 'Image', 'bands': [{'id': 'time', 'data_type': {'type': 'PixelType', 'precision': 'float', 'min': 0, 'max': 25.5}, 'crs': 'SR-ORG:6974', 'crs_transform': [463.312716528, 0, -20015109.354, 0, -463.312716527, 10007554.677]}], 'properties': {'system:time_start': 1026000000000, 'system:index': '2002_07_07'}}\n",
      "Count:  6847\n"
     ]
    }
   ],
   "source": [
    "snow = ee.ImageCollection('MODIS/006/MOD10A1') \\\n",
    "            .select(['NDSI_Snow_Cover'],['Snow']) \\\n",
    "            .filterBounds(kazbegi) \\\n",
    "            .filter(ee.Filter.date('2000-01-01', '2001-01-01')) \\\n",
    "            .sort('system:time_start')\n",
    "\n",
    "res = snow.first().projection()\n",
    "\n",
    "snow = snow.map(lambda image: image.reproject(res).clip(kazbegi))\n",
    "\n",
    "time = ee.ImageCollection('MODIS/006/MYD11A1') \\\n",
    "        .filter(ee.Filter.date('2002-07-07', '2022-12-31')) \\\n",
    "        .select(['Day_view_time']) \\\n",
    "        .sort('system:time_start')\n",
    "time = time.map(lambda image: image.resample('bicubic').reproject(res).clip(kazbegi).rename('time'))\n",
    "time = time.map(lambda image: image.expression('time / 10', {'time': image}) \\\n",
    "              .copyProperties(image, ['system:time_start']))\n",
    "\n",
    "time = time.sort(\"system:time_start\")\n",
    "\n",
    "print(time.first().getInfo())\n",
    "\n",
    "count = time.size()\n",
    "print('Count: ', count.getInfo())"
   ]
  },
  {
   "cell_type": "code",
   "execution_count": 45,
   "metadata": {},
   "outputs": [],
   "source": [
    "def getmean(img):\n",
    "    return img.reduceRegions(collection = kazbegi,\n",
    "                            reducer = ee.Reducer.mean(),\n",
    "                            scale = 500)\n",
    "\n",
    "time = time.map(lambda image: getmean(image))\n",
    "featureCollection = time.flatten()\n",
    "\n",
    "task_config = {\n",
    "    'folder':'time',\n",
    "    'fileFormat':'CSV'\n",
    "}\n",
    "\n",
    "task = ee.batch.Export.table.toDrive(featureCollection, 'time_lst_aqua_total', **task_config)\n",
    "task.start()"
   ]
  },
  {
   "cell_type": "code",
   "execution_count": null,
   "metadata": {},
   "outputs": [],
   "source": []
  }
 ],
 "metadata": {
  "hide_input": false,
  "kernelspec": {
   "display_name": "Python 3",
   "language": "python",
   "name": "python3"
  },
  "language_info": {
   "codemirror_mode": {
    "name": "ipython",
    "version": 3
   },
   "file_extension": ".py",
   "mimetype": "text/x-python",
   "name": "python",
   "nbconvert_exporter": "python",
   "pygments_lexer": "ipython3",
   "version": "3.7.7"
  },
  "toc": {
   "base_numbering": 1,
   "nav_menu": {},
   "number_sections": true,
   "sideBar": true,
   "skip_h1_title": true,
   "title_cell": "Table of Contents",
   "title_sidebar": "Table of Contents",
   "toc_cell": false,
   "toc_position": {
    "height": "calc(100% - 180px)",
    "left": "10px",
    "top": "150px",
    "width": "384px"
   },
   "toc_section_display": true,
   "toc_window_display": false
  },
  "varInspector": {
   "cols": {
    "lenName": 16,
    "lenType": 16,
    "lenVar": 40
   },
   "kernels_config": {
    "python": {
     "delete_cmd_postfix": "",
     "delete_cmd_prefix": "del ",
     "library": "var_list.py",
     "varRefreshCmd": "print(var_dic_list())"
    },
    "r": {
     "delete_cmd_postfix": ") ",
     "delete_cmd_prefix": "rm(",
     "library": "var_list.r",
     "varRefreshCmd": "cat(var_dic_list()) "
    }
   },
   "types_to_exclude": [
    "module",
    "function",
    "builtin_function_or_method",
    "instance",
    "_Feature"
   ],
   "window_display": false
  }
 },
 "nbformat": 4,
 "nbformat_minor": 4
}
