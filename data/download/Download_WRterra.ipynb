{
 "cells": [
  {
   "cell_type": "markdown",
   "metadata": {},
   "source": [
    "# Download GEE Imagery"
   ]
  },
  {
   "cell_type": "markdown",
   "metadata": {},
   "source": [
    "## Step-by-step tutorial\n",
    "\n",
    "### Import libraries"
   ]
  },
  {
   "cell_type": "code",
   "execution_count": 110,
   "metadata": {},
   "outputs": [],
   "source": [
    "import ee\n",
    "import math\n",
    "import geemap\n",
    "import sys\n",
    "import pandas as pd\n",
    "from multiprocessing import Process, cpu_count \n",
    "from geetools import cloud_mask"
   ]
  },
  {
   "cell_type": "code",
   "execution_count": 111,
   "metadata": {
    "scrolled": true
   },
   "outputs": [
    {
     "data": {
      "application/vnd.jupyter.widget-view+json": {
       "model_id": "52b87159d3e943f5aed4f7f95fddb4b0",
       "version_major": 2,
       "version_minor": 0
      },
      "text/plain": [
       "Map(center=[42.6252601637589, 44.544784542321295], controls=(WidgetControl(options=['position'], widget=HBox(c…"
      ]
     },
     "metadata": {},
     "output_type": "display_data"
    }
   ],
   "source": [
    "Map = geemap.Map()\n",
    "kazbegi = ee.FeatureCollection(\"users/andihanzl/kazbegi\");\n",
    "Map.centerObject(kazbegi, 10)\n",
    "Map"
   ]
  },
  {
   "cell_type": "code",
   "execution_count": 112,
   "metadata": {},
   "outputs": [
    {
     "name": "stdout",
     "output_type": "stream",
     "text": [
      "Count:  32\n"
     ]
    }
   ],
   "source": [
    "snow = ee.ImageCollection('MODIS/006/MOD10A1') \\\n",
    "            .merge(ee.ImageCollection('MODIS/006/MYD10A1')) \\\n",
    "            .select(['NDSI_Snow_Cover'],['Snow']) \\\n",
    "            .filterBounds(kazbegi) \\\n",
    "            .filter(ee.Filter.date('2000-01-01', '2003-12-31'))\n",
    "\n",
    "res = snow.first().projection()\n",
    "\n",
    "snow = snow.map(lambda image: image.reproject(res).clip(kazbegi))\n",
    "\n",
    "inBands = ee.List(['LST_Day_1km','LST_Night_1km','Day_view_time','Night_view_time']);\n",
    "outBands = ee.List(['day','night','daytime','nighttime']); \n",
    "\n",
    "wr = ee.ImageCollection('MODIS/006/MOD11A1') \\\n",
    "        .filter(ee.Filter.date('2021-03-01', '2022-01-01')) \\\n",
    "        .select(inBands,outBands) \\\n",
    "        .sort('system:time_start')\n",
    "\n",
    "wr = wr.map(lambda image: image.resample('bicubic').reproject(res).clip(kazbegi))\n",
    "\n",
    "listOfImages = wr.toList(wr.size());\n",
    "\n",
    "def wrterra(img):\n",
    "    index = listOfImages.indexOf(img);\n",
    "    img = ee.Image(img);\n",
    "    previousIndex = ee.Algorithms.If(index.eq(0), index, index.subtract(1));\n",
    "    previousImage = ee.Image(listOfImages.get(previousIndex));\n",
    "    # select day temperature\n",
    "    day = img.expression('day * 0.02 - 273.15', {'day': img.select('day')});\n",
    "    # select night temperature\n",
    "    night = previousImage.expression('night * 0.02 - 273.15', {'night': previousImage.select('night')});\n",
    "    # calculate warming rate from night to day temperature\n",
    "    wr = ee.Image(day.subtract(night).copyProperties(img, [\"system:time_start\"]));\n",
    "    return img.addBands(wr.rename('wr'));\n",
    "\n",
    "wr = ee.ImageCollection(listOfImages.map(lambda image: wrterra(image)));\n",
    "\n",
    "#wr = ee.ImageCollection.fromImages(wr.iterate(wrterra,second)); \n",
    "wr = wr.sort('system:time_start')\n",
    "\n",
    "def getCover(image, aoi, scale):\n",
    "    #calculate the number of inputs\n",
    "    totPixels = ee.Number(image.unmask(1).reduceRegion(reducer = ee.Reducer.count(),\n",
    "                                                       scale = scale,\n",
    "                                                       geometry = aoi)\n",
    "                          .values().get(0))\n",
    "    \n",
    "    #calculate the actual amount of pixels inside the aoi\n",
    "    actPixels = ee.Number(image.reduceRegion(reducer = ee.Reducer.count(),\n",
    "                                             scale = scale,\n",
    "                                             geometry = aoi)\n",
    "                          .values().get(0))\n",
    "    #calculate the perc of cover\n",
    "    percCover = actPixels.divide(totPixels).multiply(100).round()    \n",
    "    #number as output\n",
    "    return image.set('percCover', percCover);\n",
    "\n",
    "wr = wr.map(lambda image: getCover(image, kazbegi, 500))\n",
    "wr = wr.filter(ee.Filter.gt('percCover', 0.000000000000001))\n",
    "wr = wr.select('wr').sort(\"system:time_start\")\n",
    "\n",
    "count = wr.size()\n",
    "print('Count: ', count.getInfo())\n",
    "\n",
    "vis_params = {\n",
    "    'bands': ['wr'],\n",
    "      'min': -20,\n",
    "      'max': 30,\n",
    "      'palette': ['blue', 'red']\n",
    "}\n",
    "\n",
    "#Map.addLayer(snow_mask, vis_params, \"Snow Mask\")\n",
    "Map.addLayer(wr.first(), vis_params, \"Warming Rate\")"
   ]
  },
  {
   "cell_type": "code",
   "execution_count": 113,
   "metadata": {},
   "outputs": [
    {
     "name": "stdout",
     "output_type": "stream",
     "text": [
      "['C:\\\\Users\\\\andre\\\\OneDrive\\\\Dokumente\\\\Masterarbeit\\\\GEE\\\\Download_Leonie', 'C:\\\\Users\\\\andre\\\\anaconda3\\\\envs\\\\starfm\\\\python37.zip', 'C:\\\\Users\\\\andre\\\\anaconda3\\\\envs\\\\starfm\\\\DLLs', 'C:\\\\Users\\\\andre\\\\anaconda3\\\\envs\\\\starfm\\\\lib', 'C:\\\\Users\\\\andre\\\\anaconda3\\\\envs\\\\starfm', '', 'C:\\\\Users\\\\andre\\\\anaconda3\\\\envs\\\\starfm\\\\lib\\\\site-packages', 'C:\\\\Users\\\\andre\\\\anaconda3\\\\envs\\\\starfm\\\\lib\\\\site-packages\\\\win32', 'C:\\\\Users\\\\andre\\\\anaconda3\\\\envs\\\\starfm\\\\lib\\\\site-packages\\\\win32\\\\lib', 'C:\\\\Users\\\\andre\\\\anaconda3\\\\envs\\\\starfm\\\\lib\\\\site-packages\\\\Pythonwin', 'C:\\\\Users\\\\andre\\\\anaconda3\\\\envs\\\\starfm\\\\lib\\\\site-packages\\\\IPython\\\\extensions', 'C:\\\\Users\\\\andre\\\\.ipython', 'C:/Users/andre/OneDrive/Dokumente/Masterarbeit/GEE/Download_Leonie/', 'C:/Users/andre/OneDrive/Dokumente/Masterarbeit/GEE/Download_Leonie/', 'C:/Users/andre/OneDrive/Dokumente/Masterarbeit/GEE/Download_Leonie/', 'C:/Users/andre/OneDrive/Dokumente/Masterarbeit/GEE/Download_Leonie/', 'C:/Users/andre/OneDrive/Dokumente/Masterarbeit/GEE/Download_Leonie/']\n"
     ]
    }
   ],
   "source": [
    "# -*- coding: utf-8 -*-\n",
    "\"\"\"\n",
    "Created on Wed Jul 22 17:20:38 2020\n",
    "\n",
    "@author: kgn\n",
    "\"\"\"\n",
    "import sys\n",
    "sys.path.append(\"C:/Users/andre/OneDrive/Dokumente/Masterarbeit/GEE/Download_Leonie/\")\n",
    "print(sys.path)\n",
    "import ee\n",
    "import numpy as np\n",
    "from osgeo import gdal\n",
    "from osgeo import osr\n",
    "    \n",
    "\n",
    "\n",
    "# Initialize the Earth Engine library.\n",
    "ee.Initialize()\n",
    "\n",
    "\n",
    "# fill all NA-values with a fill values of -999999 \n",
    "def na_to_num(image):\n",
    "    image_wo_na = image.unmask(-999999)\n",
    "    return image_wo_na\n",
    "\n",
    "# mosaic all images on the same date\n",
    "def helper_function(d, imcol):\n",
    "    d = ee.Date(d)\n",
    "    im = imcol.filterDate(d, d.advance(1, \"day\")).mosaic()\n",
    "    return im.set(\"system:time_start\", d.millis(), \"system:id\", d.format(\"YYYY-MM-dd\"))\n",
    "\n",
    "def mosaic(imcol):\n",
    "    imlist = imcol.toList(imcol.size()) \n",
    "    unique_dates = imlist.map(lambda im: ee.Image(im).date().format(\"YYYY-MM-dd\")).distinct()\n",
    "    mosaic_imlist = unique_dates.map(lambda d: helper_function(d, imcol))\n",
    "    return ee.ImageCollection(mosaic_imlist)\n",
    "\n",
    "def ymdList(imgcol):\n",
    "    def iter_func(image, newlist):\n",
    "        date = ee.Number.parse(image.date().format(\"yyyyMMdd\"));\n",
    "        newlist = ee.List(newlist);\n",
    "        return ee.List(newlist.add(date).sort())\n",
    "    ymd = imgcol.iterate(iter_func, ee.List([]))\n",
    "    return list(ee.List(ymd).reduce(ee.Reducer.frequencyHistogram()).getInfo().keys())\n",
    "\n",
    "# convert the gee objects into numpys and then into Geotiffs\n",
    "def gee_to_numpy(img, bounds, poly, indexname):\n",
    "    path_orig = 'original_files_'+indexname+'/'\n",
    "    # get the lat lon and add the ndvi\n",
    "    latlon = ee.Image.pixelLonLat().addBands(img)\n",
    "\n",
    "    # apply reducer to list\n",
    "    latlon = latlon.reduceRegion(\n",
    "      reducer=ee.Reducer.toList(),\n",
    "      geometry=bounds,\n",
    "      maxPixels=1e8,\n",
    "      scale=500);\n",
    "    \n",
    "    # get data into three different arrays \n",
    "    data = np.array((ee.Array(latlon.get(indexname)).getInfo()))\n",
    "    lats = np.array((ee.Array(latlon.get(\"latitude\")).getInfo()))\n",
    "    lons = np.array((ee.Array(latlon.get(\"longitude\")).getInfo()))\n",
    "    \n",
    "   \n",
    "    # get the unique coordinates\n",
    "    uniqueLats = np.unique(lats)\n",
    "    uniqueLons = np.unique(lons)\n",
    "     \n",
    "    # get number of columns and rows from coordinates\n",
    "    ncols = len(uniqueLons)    \n",
    "    nrows = len(uniqueLats)\n",
    "     \n",
    "    # determine pixelsizes\n",
    "    ys = uniqueLats[1] - uniqueLats[0] \n",
    "    xs = uniqueLons[1] - uniqueLons[0]\n",
    "     \n",
    "    # create an array with dimensions of image\n",
    "    arr= np.zeros([nrows, ncols], np.float32) \n",
    "  \n",
    "   # fill the array with values\n",
    "    counter =0\n",
    "    for r in range(0,len(arr),1):\n",
    "        for p in range(0,len(arr[0]),1):\n",
    "            if lats[counter] == uniqueLats[r] and lons[counter] == uniqueLons[p] and counter < len(lats)-1:\n",
    "                counter+=1\n",
    "                arr[len(uniqueLats)-1-r,p] = data[counter] # we start from lower left corner\n",
    "                    \n",
    "    # set -999999 to Na\n",
    "    arr[arr == -999999] = 'nan' \n",
    "    \n",
    " #   if sat == 'l' or sat == 'm': # create Geotiffs from the landsat and MODIS images at the date 0 \n",
    "        #SetGeoTransform((originX, pixelWidth, 0, originY, 0, pixelHeight))\n",
    "    transform = (np.min(uniqueLons),xs,0,np.max(uniqueLats),0,-ys)\n",
    "     \n",
    "    # set the coordinate system\n",
    "    target = osr.SpatialReference()\n",
    "    target.ImportFromEPSG(4326)\n",
    "     \n",
    "    # set driver\n",
    "    driver = gdal.GetDriverByName('GTiff')\n",
    "    \n",
    "    timedate = ee.Date(img.get('system:time_start')).format('yyyyMMdd').getInfo()\n",
    "    outputDataset = driver.Create(path_orig+timedate+poly+\".tif\", ncols,nrows, 1,gdal.GDT_Float32)\n",
    "     \n",
    "    # add some metadata\n",
    "    outputDataset.SetMetadata( {'time': str(timedate)} )\n",
    "     \n",
    "    outputDataset.SetGeoTransform(transform)\n",
    "    outputDataset.SetProjection(target.ExportToWkt())\n",
    "    outputDataset.GetRasterBand(1).WriteArray(arr)\n",
    "    outputDataset.GetRasterBand(1).SetNoDataValue(-999999)\n",
    "    outputDataset = None\n",
    "    return(outputDataset, arr)\n",
    "   # else:\n",
    "   #     return(arr)"
   ]
  },
  {
   "cell_type": "code",
   "execution_count": 114,
   "metadata": {},
   "outputs": [],
   "source": [
    "# -*- coding: utf-8 -*-\n",
    "\"\"\"\n",
    "Created on Thu Sep 10 09:19:52 2020\n",
    "\n",
    "@author: kgn\n",
    "\"\"\"\n",
    "\n",
    "import ee\n",
    "from geetools import cloud_mask\n",
    "import pandas as pd\n",
    "#import math\n",
    "\n",
    "\n",
    "# Initialize the Earth Engine library.\n",
    "ee.Initialize()\n",
    "\n",
    "def download_imagery(collection, polygon, polygonname, number_of_processes):\n",
    "   # modis = modis_col\n",
    "    bounds = polygon\n",
    "    #bounds = ee.FeatureCollection(\"users/leonieanina93/HessenBuff_Sued\")\n",
    "    \n",
    "    # set the NAs to the numeric fillvalue of -999999\n",
    "    #modis_wo_na = (modis_final.map(na_to_num))\n",
    "    col_wo_na = (collection.map(na_to_num))\n",
    "      \n",
    "    # create a list from the collection  \n",
    "    #modis_list = modis_wo_na.toList(modis_wo_na.size())\n",
    "    col_list = col_wo_na.toList(col_wo_na.size())\n",
    "    \n",
    "    # get date from image and create a datelist\n",
    "    #modis_dates = ymdList(modis_wo_na)\n",
    "    col_dates = ymdList(col_wo_na)\n",
    "          \n",
    "    #create dataframe with dates from images from Landsat and Modis that are used for STARM-fusion   \n",
    "    #modis_df = pd.DataFrame(\n",
    "     #      {'modis': modis_dates\n",
    "      #     })\n",
    "       \n",
    "    sat_df = pd.DataFrame(\n",
    "           {#'modis': landsat_dates,\n",
    "            'wr': col_dates\n",
    "           })\n",
    "    \n",
    "  #  sat_df = pd.merge(modis_df, landsat_df, how='left')\n",
    "    poly = str(polygonname)  #create a polygon label\n",
    "\n",
    "    sat_df.to_csv(r'.\\datetables_WR\\polygon_' + poly + '20152021.csv')\n",
    "       \n",
    "    \n",
    "  #  x = -1\n",
    "    for j in range(len(sat_df)):\n",
    "        #print(j)\n",
    "       # mod_num = int(sat_df.loc[j, \"index\"])\n",
    "        #print(mod_num)\n",
    "       # path_orig = 'original_files/'\n",
    "        \n",
    "        #if math.isnan(float(sat_df.loc[j, \"landsat\"])) == False:\n",
    "          #  if math.isnan(float(sat_df.loc[j, \"landsat\"])) == False:\n",
    "             #  x = sat_df.iloc[j]['landsat']\n",
    "              #  x = j\n",
    "          #      x += 1\n",
    "                #print(x)\n",
    "                img_l = ee.Image(col_list.get(j)).clip(bounds)\n",
    "               # print('Print Landsat tif')\n",
    "                col_tif, arr_l = gee_to_numpy(img_l, bounds, poly, 'wr')\n",
    "                \n",
    "      #  else:\n",
    "      #          img_m = ee.Image(modis_list.get(j)).clip(bounds)\n",
    "       #         modis_tif, arr_m = gee_to_numpy(img_m, 'm', bounds, poly, 'NDVI')"
   ]
  },
  {
   "cell_type": "code",
   "execution_count": 115,
   "metadata": {},
   "outputs": [],
   "source": [
    "download_imagery(wr, kazbegi, 'terra', 1)"
   ]
  },
  {
   "cell_type": "markdown",
   "metadata": {},
   "source": []
  },
  {
   "cell_type": "code",
   "execution_count": null,
   "metadata": {},
   "outputs": [],
   "source": []
  },
  {
   "cell_type": "code",
   "execution_count": null,
   "metadata": {},
   "outputs": [],
   "source": []
  },
  {
   "cell_type": "code",
   "execution_count": null,
   "metadata": {},
   "outputs": [],
   "source": []
  }
 ],
 "metadata": {
  "hide_input": false,
  "kernelspec": {
   "display_name": "Python 3",
   "language": "python",
   "name": "python3"
  },
  "language_info": {
   "codemirror_mode": {
    "name": "ipython",
    "version": 3
   },
   "file_extension": ".py",
   "mimetype": "text/x-python",
   "name": "python",
   "nbconvert_exporter": "python",
   "pygments_lexer": "ipython3",
   "version": "3.7.7"
  },
  "toc": {
   "base_numbering": 1,
   "nav_menu": {},
   "number_sections": true,
   "sideBar": true,
   "skip_h1_title": true,
   "title_cell": "Table of Contents",
   "title_sidebar": "Table of Contents",
   "toc_cell": false,
   "toc_position": {
    "height": "calc(100% - 180px)",
    "left": "10px",
    "top": "150px",
    "width": "384px"
   },
   "toc_section_display": true,
   "toc_window_display": false
  },
  "varInspector": {
   "cols": {
    "lenName": 16,
    "lenType": 16,
    "lenVar": 40
   },
   "kernels_config": {
    "python": {
     "delete_cmd_postfix": "",
     "delete_cmd_prefix": "del ",
     "library": "var_list.py",
     "varRefreshCmd": "print(var_dic_list())"
    },
    "r": {
     "delete_cmd_postfix": ") ",
     "delete_cmd_prefix": "rm(",
     "library": "var_list.r",
     "varRefreshCmd": "cat(var_dic_list()) "
    }
   },
   "types_to_exclude": [
    "module",
    "function",
    "builtin_function_or_method",
    "instance",
    "_Feature"
   ],
   "window_display": false
  }
 },
 "nbformat": 4,
 "nbformat_minor": 4
}
