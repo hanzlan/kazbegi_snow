{
 "cells": [
  {
   "cell_type": "markdown",
   "metadata": {},
   "source": [
    "# Download GEE Imagery"
   ]
  },
  {
   "cell_type": "markdown",
   "metadata": {},
   "source": [
    "## Step-by-step tutorial\n",
    "\n",
    "### Import libraries"
   ]
  },
  {
   "cell_type": "code",
   "execution_count": 33,
   "metadata": {},
   "outputs": [],
   "source": [
    "import ee\n",
    "import math\n",
    "import geemap\n",
    "import sys\n",
    "import pandas as pd\n",
    "from multiprocessing import Process, cpu_count \n",
    "from geetools import cloud_mask"
   ]
  },
  {
   "cell_type": "code",
   "execution_count": 34,
   "metadata": {},
   "outputs": [
    {
     "data": {
      "application/vnd.jupyter.widget-view+json": {
       "model_id": "f686f311dfa64c479c58124d069897b3",
       "version_major": 2,
       "version_minor": 0
      },
      "text/plain": [
       "Map(center=[42.6252601637589, 44.544784542321295], controls=(WidgetControl(options=['position'], widget=HBox(c…"
      ]
     },
     "metadata": {},
     "output_type": "display_data"
    }
   ],
   "source": [
    "Map = geemap.Map()\n",
    "kazbegi = ee.FeatureCollection(\"users/andihanzl/kazbegi\");\n",
    "Map.centerObject(kazbegi, 10)\n",
    "geometry =ee.Geometry.Polygon(\n",
    "        [[[44.16644286751663, 42.600127655106185],\n",
    "          [44.23510741829788, 42.5394457299407],\n",
    "          [44.38067626595413, 42.48073042443687],\n",
    "          [44.54547118782913, 42.456418303462],\n",
    "          [44.72674560189163, 42.46452339297412],\n",
    "          [44.87231444954788, 42.533374290609736],\n",
    "          [44.90252685189163, 42.61023556954571],\n",
    "          [44.80364989876663, 42.76367391712233],\n",
    "          [44.56469726204788, 42.80398943064146],\n",
    "          [44.16369628548538, 42.70315142463515]]]);\n",
    "Map"
   ]
  },
  {
   "cell_type": "code",
   "execution_count": 35,
   "metadata": {},
   "outputs": [
    {
     "name": "stdout",
     "output_type": "stream",
     "text": [
      "Hour: 10\n",
      "Count:  2\n"
     ]
    }
   ],
   "source": [
    "snow = ee.ImageCollection('MODIS/006/MOD10A1') \\\n",
    "            .merge(ee.ImageCollection('MODIS/006/MYD10A1')) \\\n",
    "            .select(['NDSI_Snow_Cover'],['Snow']) \\\n",
    "            .filterBounds(kazbegi) \\\n",
    "            .filterDate('2000-02-26', '2000-12-31')\n",
    "\n",
    "res = snow.first().projection()\n",
    "\n",
    "snow = snow.map(lambda image: image.reproject(res).clip(kazbegi))\n",
    "\n",
    "rad = ee.ImageCollection('ECMWF/ERA5_LAND/HOURLY') \\\n",
    "        .filterDate('2002-12-31', '2003-01-02') \\\n",
    "        .select(['surface_solar_radiation_downwards']) \\\n",
    "        .sort('system:time_start')\n",
    "\n",
    "rad = rad.map(lambda image: image.resample('bilinear').reproject(res).clip(geometry).rename('RAD'))\n",
    "rad = rad.sort('system:time_start')\n",
    "\n",
    "rad = rad.filterMetadata('hour', 'equals', 10);\n",
    "\n",
    "#Get the timestamp and convert it to a date.\n",
    "hour = rad.first().get('hour')\n",
    "print('Hour: '+str(hour.getInfo())) # ee.Date\n",
    "\n",
    "count = rad.size()\n",
    "print('Count: ', count.getInfo())\n",
    "\n",
    "vis_params = {\n",
    "      'min': -20,\n",
    "      'max': 30,\n",
    "      'palette': ['blue', 'red'],\n",
    "      'bands': ['RAD']\n",
    "}\n",
    "\n",
    "#Map.addLayer(snow_mask, vis_params, \"Snow Mask\")\n",
    "Map.addLayer(rad.first(), vis_params, \"Incoming Rad\")"
   ]
  },
  {
   "cell_type": "code",
   "execution_count": 36,
   "metadata": {},
   "outputs": [
    {
     "name": "stdout",
     "output_type": "stream",
     "text": [
      "['C:\\\\Users\\\\andre\\\\OneDrive\\\\Dokumente\\\\Masterarbeit\\\\GEE\\\\Download_Leonie', 'C:\\\\Users\\\\andre\\\\anaconda3\\\\envs\\\\starfm\\\\python37.zip', 'C:\\\\Users\\\\andre\\\\anaconda3\\\\envs\\\\starfm\\\\DLLs', 'C:\\\\Users\\\\andre\\\\anaconda3\\\\envs\\\\starfm\\\\lib', 'C:\\\\Users\\\\andre\\\\anaconda3\\\\envs\\\\starfm', '', 'C:\\\\Users\\\\andre\\\\anaconda3\\\\envs\\\\starfm\\\\lib\\\\site-packages', 'C:\\\\Users\\\\andre\\\\anaconda3\\\\envs\\\\starfm\\\\lib\\\\site-packages\\\\win32', 'C:\\\\Users\\\\andre\\\\anaconda3\\\\envs\\\\starfm\\\\lib\\\\site-packages\\\\win32\\\\lib', 'C:\\\\Users\\\\andre\\\\anaconda3\\\\envs\\\\starfm\\\\lib\\\\site-packages\\\\Pythonwin', 'C:\\\\Users\\\\andre\\\\anaconda3\\\\envs\\\\starfm\\\\lib\\\\site-packages\\\\IPython\\\\extensions', 'C:\\\\Users\\\\andre\\\\.ipython', 'C:/Users/andre/OneDrive/Dokumente/Masterarbeit/GEE/Download_Leonie/', 'C:/Users/andre/OneDrive/Dokumente/Masterarbeit/GEE/Download_Leonie/', 'C:/Users/andre/OneDrive/Dokumente/Masterarbeit/GEE/Download_Leonie/', 'C:/Users/andre/OneDrive/Dokumente/Masterarbeit/GEE/Download_Leonie/', 'C:/Users/andre/OneDrive/Dokumente/Masterarbeit/GEE/Download_Leonie/', 'C:/Users/andre/OneDrive/Dokumente/Masterarbeit/GEE/Download_Leonie/']\n"
     ]
    }
   ],
   "source": [
    "# -*- coding: utf-8 -*-\n",
    "\"\"\"\n",
    "Created on Wed Jul 22 17:20:38 2020\n",
    "\n",
    "@author: kgn\n",
    "\"\"\"\n",
    "import sys\n",
    "sys.path.append(\"C:/Users/andre/OneDrive/Dokumente/Masterarbeit/GEE/Download_Leonie/\")\n",
    "print(sys.path)\n",
    "import ee\n",
    "import numpy as np\n",
    "from osgeo import gdal\n",
    "from osgeo import osr\n",
    "    \n",
    "\n",
    "\n",
    "# Initialize the Earth Engine library.\n",
    "ee.Initialize()\n",
    "\n",
    "# fill all NA-values with a fill values of -999999 \n",
    "def na_to_num(image):\n",
    "    image_wo_na = image.unmask(-999999)\n",
    "    return image_wo_na\n",
    "\n",
    "# mosaic all images on the same date\n",
    "def helper_function(d, imcol):\n",
    "    d = ee.Date(d)\n",
    "    im = imcol.filterDate(d, d.advance(1, \"day\")).mosaic()\n",
    "    return im.set(\"system:time_start\", d.millis(), \"system:id\", d.format(\"YYYY-MM-dd\"))\n",
    "\n",
    "def mosaic(imcol):\n",
    "    imlist = imcol.toList(imcol.size()) \n",
    "    unique_dates = imlist.map(lambda im: ee.Image(im).date().format(\"YYYY-MM-dd\")).distinct()\n",
    "    mosaic_imlist = unique_dates.map(lambda d: helper_function(d, imcol))\n",
    "    return ee.ImageCollection(mosaic_imlist)\n",
    "\n",
    "def ymdList(imgcol):\n",
    "    def iter_func(image, newlist):\n",
    "        date = ee.Number.parse(image.date().format(\"yyyyMMdd\"));\n",
    "        newlist = ee.List(newlist);\n",
    "        return ee.List(newlist.add(date).sort())\n",
    "    ymd = imgcol.iterate(iter_func, ee.List([]))\n",
    "    return list(ee.List(ymd).reduce(ee.Reducer.frequencyHistogram()).getInfo().keys())\n",
    "\n",
    "\n",
    "# convert the gee objects into numpys and then into Geotiffs\n",
    "def gee_to_numpy(img, bounds, poly, indexname):\n",
    "    path_orig = 'newfiles_'+indexname+'/'\n",
    "    # get the lat lon and add the ndvi\n",
    "    latlon = ee.Image.pixelLonLat().addBands(img)\n",
    "\n",
    "    # apply reducer to list\n",
    "    latlon = latlon.reduceRegion(\n",
    "      reducer=ee.Reducer.toList(),\n",
    "      geometry=bounds,\n",
    "      maxPixels=1e8,\n",
    "      scale=500);\n",
    "    \n",
    "    # get data into three different arrays \n",
    "    data = np.array((ee.Array(latlon.get(indexname)).getInfo()))\n",
    "    lats = np.array((ee.Array(latlon.get(\"latitude\")).getInfo()))\n",
    "    lons = np.array((ee.Array(latlon.get(\"longitude\")).getInfo()))\n",
    "    \n",
    "   \n",
    "    # get the unique coordinates\n",
    "    uniqueLats = np.unique(lats)\n",
    "    uniqueLons = np.unique(lons)\n",
    "     \n",
    "    # get number of columns and rows from coordinates\n",
    "    ncols = len(uniqueLons)    \n",
    "    nrows = len(uniqueLats)\n",
    "     \n",
    "    # determine pixelsizes\n",
    "    ys = uniqueLats[1] - uniqueLats[0] \n",
    "    xs = uniqueLons[1] - uniqueLons[0]\n",
    "     \n",
    "    # create an array with dimensions of image\n",
    "    arr= np.zeros([nrows, ncols], np.float32) \n",
    "  \n",
    "   # fill the array with values\n",
    "    counter =0\n",
    "    for r in range(0,len(arr),1):\n",
    "        for p in range(0,len(arr[0]),1):\n",
    "            if lats[counter] == uniqueLats[r] and lons[counter] == uniqueLons[p] and counter < len(lats)-1:\n",
    "                counter+=1\n",
    "                arr[len(uniqueLats)-1-r,p] = data[counter] # we start from lower left corner\n",
    "                    \n",
    "    # set -999999 to Na\n",
    "    arr[arr == -999999] = 'nan' \n",
    "    \n",
    " #   if sat == 'l' or sat == 'm': # create Geotiffs from the landsat and MODIS images at the date 0 \n",
    "        #SetGeoTransform((originX, pixelWidth, 0, originY, 0, pixelHeight))\n",
    "    transform = (np.min(uniqueLons),xs,0,np.max(uniqueLats),0,-ys)\n",
    "     \n",
    "    # set the coordinate system\n",
    "    target = osr.SpatialReference()\n",
    "    target.ImportFromEPSG(4326)\n",
    "     \n",
    "    # set driver\n",
    "    driver = gdal.GetDriverByName('GTiff')\n",
    "    \n",
    "    timedate = ee.Date(img.get('system:time_start')).format('yyyyMMdd').getInfo()\n",
    "    outputDataset = driver.Create(path_orig+timedate+poly+\".tif\", ncols,nrows, 1,gdal.GDT_Float32)\n",
    "     \n",
    "    # add some metadata\n",
    "    outputDataset.SetMetadata( {'time': str(timedate)} )\n",
    "     \n",
    "    outputDataset.SetGeoTransform(transform)\n",
    "    outputDataset.SetProjection(target.ExportToWkt())\n",
    "    outputDataset.GetRasterBand(1).WriteArray(arr)\n",
    "    outputDataset.GetRasterBand(1).SetNoDataValue(-999999)\n",
    "    outputDataset = None\n",
    "    return(outputDataset, arr)\n",
    "   # else:\n",
    "   #     return(arr)"
   ]
  },
  {
   "cell_type": "code",
   "execution_count": 37,
   "metadata": {},
   "outputs": [],
   "source": [
    "# -*- coding: utf-8 -*-\n",
    "\"\"\"\n",
    "Created on Thu Sep 10 09:19:52 2020\n",
    "\n",
    "@author: kgn\n",
    "\"\"\"\n",
    "\n",
    "import ee\n",
    "from geetools import cloud_mask\n",
    "import pandas as pd\n",
    "#import math\n",
    "\n",
    "\n",
    "# Initialize the Earth Engine library.\n",
    "ee.Initialize()\n",
    "\n",
    "def download_imagery(collection, polygon, polygonname, number_of_processes):\n",
    "   # modis = modis_col\n",
    "    bounds = polygon\n",
    "    #bounds = ee.FeatureCollection(\"users/leonieanina93/HessenBuff_Sued\")\n",
    "    \n",
    "    # set the NAs to the numeric fillvalue of -999999\n",
    "    #modis_wo_na = (modis_final.map(na_to_num))\n",
    "    col_wo_na = (collection.map(na_to_num))\n",
    "      \n",
    "    # create a list from the collection  \n",
    "    #modis_list = modis_wo_na.toList(modis_wo_na.size())\n",
    "    col_list = col_wo_na.toList(col_wo_na.size())\n",
    "    \n",
    "    # get date from image and create a datelist\n",
    "    #modis_dates = ymdList(modis_wo_na)\n",
    "    col_dates = ymdList(col_wo_na)\n",
    "          \n",
    "    #create dataframe with dates from images from Landsat and Modis that are used for STARM-fusion   \n",
    "    #modis_df = pd.DataFrame(\n",
    "     #      {'modis': modis_dates\n",
    "      #     })\n",
    "       \n",
    "    sat_df = pd.DataFrame(\n",
    "           {#'modis': landsat_dates,\n",
    "            'RAD': col_dates\n",
    "           })\n",
    "    \n",
    "  #  sat_df = pd.merge(modis_df, landsat_df, how='left')\n",
    "    poly = str(polygonname)  #create a polygon label\n",
    "\n",
    "    sat_df.to_csv(r'.\\datetables_RAD\\polygon_' + poly + '.csv')\n",
    "       \n",
    "    \n",
    "  #  x = -1\n",
    "    for j in range(len(sat_df)):\n",
    "        #print(j)\n",
    "       # mod_num = int(sat_df.loc[j, \"index\"])\n",
    "        #print(mod_num)\n",
    "       # path_orig = 'original_files/'\n",
    "        \n",
    "        #if math.isnan(float(sat_df.loc[j, \"landsat\"])) == False:\n",
    "          #  if math.isnan(float(sat_df.loc[j, \"landsat\"])) == False:\n",
    "             #  x = sat_df.iloc[j]['landsat']\n",
    "              #  x = j\n",
    "          #      x += 1\n",
    "                #print(x)\n",
    "                img_l = ee.Image(col_list.get(j)).clip(bounds)\n",
    "               # print('Print Landsat tif')\n",
    "                col_tif, arr_l = gee_to_numpy(img_l, bounds, poly, 'RAD')\n",
    "                \n",
    "      #  else:\n",
    "      #          img_m = ee.Image(modis_list.get(j)).clip(bounds)\n",
    "       #         modis_tif, arr_m = gee_to_numpy(img_m, 'm', bounds, poly, 'NDVI')"
   ]
  },
  {
   "cell_type": "code",
   "execution_count": 38,
   "metadata": {},
   "outputs": [],
   "source": [
    "download_imagery(rad, geometry, 'aqua', 1)"
   ]
  },
  {
   "cell_type": "markdown",
   "metadata": {},
   "source": []
  },
  {
   "cell_type": "code",
   "execution_count": null,
   "metadata": {},
   "outputs": [],
   "source": []
  },
  {
   "cell_type": "code",
   "execution_count": null,
   "metadata": {},
   "outputs": [],
   "source": []
  },
  {
   "cell_type": "code",
   "execution_count": null,
   "metadata": {},
   "outputs": [],
   "source": []
  }
 ],
 "metadata": {
  "hide_input": false,
  "kernelspec": {
   "display_name": "Python 3",
   "language": "python",
   "name": "python3"
  },
  "language_info": {
   "codemirror_mode": {
    "name": "ipython",
    "version": 3
   },
   "file_extension": ".py",
   "mimetype": "text/x-python",
   "name": "python",
   "nbconvert_exporter": "python",
   "pygments_lexer": "ipython3",
   "version": "3.7.7"
  },
  "toc": {
   "base_numbering": 1,
   "nav_menu": {},
   "number_sections": true,
   "sideBar": true,
   "skip_h1_title": true,
   "title_cell": "Table of Contents",
   "title_sidebar": "Table of Contents",
   "toc_cell": false,
   "toc_position": {
    "height": "calc(100% - 180px)",
    "left": "10px",
    "top": "150px",
    "width": "384px"
   },
   "toc_section_display": true,
   "toc_window_display": false
  },
  "varInspector": {
   "cols": {
    "lenName": 16,
    "lenType": 16,
    "lenVar": 40
   },
   "kernels_config": {
    "python": {
     "delete_cmd_postfix": "",
     "delete_cmd_prefix": "del ",
     "library": "var_list.py",
     "varRefreshCmd": "print(var_dic_list())"
    },
    "r": {
     "delete_cmd_postfix": ") ",
     "delete_cmd_prefix": "rm(",
     "library": "var_list.r",
     "varRefreshCmd": "cat(var_dic_list()) "
    }
   },
   "types_to_exclude": [
    "module",
    "function",
    "builtin_function_or_method",
    "instance",
    "_Feature"
   ],
   "window_display": false
  }
 },
 "nbformat": 4,
 "nbformat_minor": 4
}
